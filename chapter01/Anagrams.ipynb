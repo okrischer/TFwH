{
 "cells": [
  {
   "cell_type": "markdown",
   "metadata": {},
   "source": [
    "# Converting Words to Anagrams\n",
    "## Problem Description\n",
    "Write a function that creates a printout of anagrams of all the words\n",
    "with a given length in a text with the following specification:\n",
    "````\n",
    "anagrams :: Int -> Text -> Dictionary\n",
    "````"
   ]
  },
  {
   "cell_type": "markdown",
   "metadata": {},
   "source": [
    "## Solution"
   ]
  },
  {
   "cell_type": "code",
   "execution_count": 2,
   "metadata": {},
   "outputs": [],
   "source": [
    ":load Pipe"
   ]
  },
  {
   "cell_type": "code",
   "execution_count": 3,
   "metadata": {},
   "outputs": [],
   "source": [
    "import Pipe\n",
    "import qualified Data.Char as Char\n",
    "import qualified Data.List as List\n",
    "import qualified Data.Set as Set"
   ]
  },
  {
   "cell_type": "markdown",
   "metadata": {},
   "source": [
    "Defining type synonyms:"
   ]
  },
  {
   "cell_type": "code",
   "execution_count": 4,
   "metadata": {},
   "outputs": [],
   "source": [
    "type Dictionary = String\n",
    "type Wort = String\n",
    "type Text = String\n",
    "type Label = String"
   ]
  },
  {
   "cell_type": "markdown",
   "metadata": {},
   "source": [
    "extract the words of length n:"
   ]
  },
  {
   "cell_type": "code",
   "execution_count": 5,
   "metadata": {},
   "outputs": [],
   "source": [
    "getWords :: Int -> Text -> [Wort]\n",
    "getWords n text =  [word | word <- words (map Char.toLower text \n",
    "    $> filter (\\ x -> Char.isLetter x || Char.isSeparator x)), length word == n]"
   ]
  },
  {
   "cell_type": "markdown",
   "metadata": {},
   "source": [
    "take each word and add a label to it:"
   ]
  },
  {
   "cell_type": "code",
   "execution_count": 6,
   "metadata": {},
   "outputs": [],
   "source": [
    "addLabel :: Wort -> (Label, Wort)\n",
    "addLabel word = (List.sort word, word)"
   ]
  },
  {
   "cell_type": "markdown",
   "metadata": {},
   "source": [
    "sort the list of label-word-tuples in aplphabetical order:"
   ]
  },
  {
   "cell_type": "code",
   "execution_count": 7,
   "metadata": {},
   "outputs": [],
   "source": [
    "sortLabels :: [(Label, Wort)] -> [(Label, Wort)]\n",
    "sortLabels = List.sort"
   ]
  },
  {
   "cell_type": "markdown",
   "metadata": {},
   "source": [
    "replace each group of labelled words with the same label\n",
    "with a single entry using an accumulator (Set.empty) and a helper function:"
   ]
  },
  {
   "cell_type": "code",
   "execution_count": 8,
   "metadata": {},
   "outputs": [],
   "source": [
    "groupByLabel :: [(Label, Wort)] -> [(Label, [Wort])]\n",
    "groupByLabel = groupByHelp Set.empty\n",
    "\n",
    "groupByHelp :: Set.Set Label -> [(Label, Wort)] -> [(Label, [Wort])]\n",
    "groupByHelp _ [] = []\n",
    "groupByHelp set (x:xs) \n",
    "  | not (Set.member label set) =\n",
    "      (label, wort:worte) : groupByHelp (Set.insert label set) xs\n",
    "  | otherwise = groupByHelp set xs\n",
    "  where \n",
    "      label = fst x\n",
    "      wort  = snd x\n",
    "      worte = filter (\\ tuple -> fst tuple == label) xs $> map snd $> filter (/= wort)"
   ]
  },
  {
   "cell_type": "markdown",
   "metadata": {},
   "source": [
    "replace each entry by a string and concatenate the results:"
   ]
  },
  {
   "cell_type": "code",
   "execution_count": 9,
   "metadata": {},
   "outputs": [],
   "source": [
    "showEntry :: [(Label, [Wort])] -> Dictionary\n",
    "showEntry [] = []\n",
    "showEntry (x:xs) = fst x ++ \": \" ++ unwords (snd x) ++ \"\\n\" ++ showEntry xs"
   ]
  },
  {
   "cell_type": "markdown",
   "metadata": {},
   "source": [
    "putting everything together using function application:"
   ]
  },
  {
   "cell_type": "code",
   "execution_count": 10,
   "metadata": {},
   "outputs": [],
   "source": [
    "anagrams :: Int -> Text -> Dictionary\n",
    "anagrams n text = getWords n text\n",
    "                $> map addLabel\n",
    "                $> sortLabels\n",
    "                $> groupByLabel\n",
    "                $> showEntry"
   ]
  },
  {
   "cell_type": "code",
   "execution_count": 11,
   "metadata": {},
   "outputs": [
    {
     "data": {
      "text/plain": [
       "\"deis: dies seid\\n\""
      ]
     },
     "metadata": {},
     "output_type": "display_data"
    }
   ],
   "source": [
    "anagrams 4 \"seid, dies dies!\""
   ]
  },
  {
   "cell_type": "code",
   "execution_count": 12,
   "metadata": {},
   "outputs": [],
   "source": [
    "printAnagrams :: Int -> FilePath -> FilePath -> IO()\n",
    "printAnagrams n infile outfile = do\n",
    "  text <- readFile infile\n",
    "  writeFile outfile (anagrams n text)\n",
    "  putStrLn \"anagrams done\""
   ]
  },
  {
   "cell_type": "code",
   "execution_count": 13,
   "metadata": {},
   "outputs": [
    {
     "data": {
      "text/plain": [
       "anagrams done"
      ]
     },
     "metadata": {},
     "output_type": "display_data"
    }
   ],
   "source": [
    "printAnagrams 8 \"Faust.txt\" \"Faust.dict\""
   ]
  },
  {
   "cell_type": "code",
   "execution_count": null,
   "metadata": {},
   "outputs": [],
   "source": []
  }
 ],
 "metadata": {
  "kernelspec": {
   "display_name": "Haskell",
   "language": "haskell",
   "name": "haskell"
  },
  "language_info": {
   "codemirror_mode": "ihaskell",
   "file_extension": ".hs",
   "mimetype": "text/x-haskell",
   "name": "haskell",
   "pygments_lexer": "Haskell",
   "version": "8.6.5"
  }
 },
 "nbformat": 4,
 "nbformat_minor": 4
}
