{
 "cells": [
  {
   "cell_type": "markdown",
   "metadata": {},
   "source": [
    "# Exercises Chapter 2"
   ]
  },
  {
   "cell_type": "code",
   "execution_count": 103,
   "metadata": {},
   "outputs": [],
   "source": [
    "import qualified Data.Char as Char\n",
    "import qualified Data.List as List"
   ]
  },
  {
   "cell_type": "markdown",
   "metadata": {},
   "source": [
    "## Exercise C\n",
    "Write a function `modernise :: String -> String`, which ensures that a given title is capitalised like this:\n",
    "> \"The morphology of prex - an essay in meta-algorithmics\"\n",
    "\n",
    "> \"The Morphology Of Prex - An Assay In Meta-algorithmics\""
   ]
  },
  {
   "cell_type": "code",
   "execution_count": 104,
   "metadata": {},
   "outputs": [
    {
     "data": {
      "text/plain": [
       "\"The Morphology Of Prex - An Essay In Meta-algorithmics\""
      ]
     },
     "metadata": {},
     "output_type": "display_data"
    }
   ],
   "source": [
    "modernise :: String -> String\n",
    "modernise  = unwords . map capitalise . words\n",
    "\n",
    "capitalise :: String -> String\n",
    "capitalise (char:chars) = Char.toUpper char : chars\n",
    "\n",
    "modernise \"The morphology of prex - an essay in meta-algorithmics\""
   ]
  },
  {
   "cell_type": "markdown",
   "metadata": {},
   "source": [
    "## Exercise D\n",
    "`susan` uses existing component functions like `map`,  `filter` and `find` (higher order functions) for evaluation, `beaver` uses explict recursion.\n",
    "\n",
    "Both functions can be implemented using eager or lazy evaluation:"
   ]
  },
  {
   "cell_type": "code",
   "execution_count": 105,
   "metadata": {},
   "outputs": [
    {
     "data": {
      "text/plain": [
       "'t'"
      ]
     },
     "metadata": {},
     "output_type": "display_data"
    },
    {
     "data": {
      "text/plain": [
       "Just 't'"
      ]
     },
     "metadata": {},
     "output_type": "display_data"
    },
    {
     "data": {
      "text/plain": [
       "Nothing"
      ]
     },
     "metadata": {},
     "output_type": "display_data"
    }
   ],
   "source": [
    "--eager implementation of susan\n",
    "susan :: (a -> Bool) -> [a] -> a\n",
    "susan p =  head . filter p\n",
    "\n",
    "susan (== 't') \"test\"\n",
    "-- susan (== 't') \"Tesla\" --throws error: empty list\n",
    "\n",
    "--lazy implementation of susan\n",
    "susan' :: (a -> Bool) -> [a] -> Maybe a\n",
    "susan' = List.find\n",
    "\n",
    "susan' (== 't') \"test\"\n",
    "susan' (== 't') \"Tesla\""
   ]
  },
  {
   "cell_type": "code",
   "execution_count": 106,
   "metadata": {},
   "outputs": [
    {
     "data": {
      "text/plain": [
       "Just 't'"
      ]
     },
     "metadata": {},
     "output_type": "display_data"
    },
    {
     "data": {
      "text/plain": [
       "Nothing"
      ]
     },
     "metadata": {},
     "output_type": "display_data"
    }
   ],
   "source": [
    "--lazy implementation of beaver \n",
    "beaver :: (a -> Bool) -> [a] -> Maybe a\n",
    "beaver _ [] = Nothing\n",
    "beaver p (x:xs) | p x = Just x\n",
    "                | otherwise = beaver p xs\n",
    "\n",
    "beaver (== 't') \"test\"\n",
    "beaver (== 't') \"Tesla\""
   ]
  },
  {
   "cell_type": "markdown",
   "metadata": {},
   "source": [
    "## Exercise F\n",
    "The follwing implementation of `exp` has a complexity of $\\mathcal{O}(n)$:"
   ]
  },
  {
   "cell_type": "code",
   "execution_count": 107,
   "metadata": {},
   "outputs": [],
   "source": [
    "exp :: Integer -> Integer -> Integer\n",
    "exp x n | n == 0 = 1\n",
    "        | n == 1 = x\n",
    "        | otherwise = x * exp x (n-1)"
   ]
  },
  {
   "cell_type": "code",
   "execution_count": 108,
   "metadata": {},
   "outputs": [
    {
     "data": {
      "text/plain": [
       "1267650600228229401496703205376"
      ]
     },
     "metadata": {},
     "output_type": "display_data"
    }
   ],
   "source": [
    "exp 2 100"
   ]
  },
  {
   "cell_type": "markdown",
   "metadata": {},
   "source": [
    "The next, improved implementation uses the following two insights:\n",
    "$$x^{2m} = (x^2)^m \\iff x^n = (x^2)^{\\frac{1}{2}n}$$\n",
    "$$x^{2m+1} = x(x^2)^m$$\n",
    "The complexity is $\\mathcal{O}(\\lg{n})$, roughly speaking because we are halving the input every time we make a recursive call.\n",
    "A mathematical proof for this would be:\n",
    "the program takes $p$ multiplications, where $2^p \\leq n < 2^{p+1}$, thus $p = \\lfloor{\\lg{n}}\\rfloor$. "
   ]
  },
  {
   "cell_type": "code",
   "execution_count": 109,
   "metadata": {},
   "outputs": [],
   "source": [
    "exp' :: Integer -> Integer -> Integer\n",
    "exp' x n | n == 0 = 1\n",
    "         | n == 1 = x\n",
    "         | even n = exp' (x*x) m\n",
    "         | odd n  = x * exp' (x*x) m\n",
    "         where m = n `div` 2"
   ]
  },
  {
   "cell_type": "code",
   "execution_count": 110,
   "metadata": {},
   "outputs": [
    {
     "data": {
      "text/plain": [
       "1267650600228229401496703205376"
      ]
     },
     "metadata": {},
     "output_type": "display_data"
    }
   ],
   "source": [
    "exp' 2 100"
   ]
  },
  {
   "cell_type": "markdown",
   "metadata": {},
   "source": [
    "This [benchmarking report](benchmark.html) shows the differnce between runtime complexity of $\\mathcal{O}(n)$ and $\\mathcal{O}(\\lg{n})$"
   ]
  },
  {
   "cell_type": "markdown",
   "metadata": {},
   "source": [
    "## Exercise G"
   ]
  },
  {
   "cell_type": "code",
   "execution_count": 111,
   "metadata": {},
   "outputs": [],
   "source": [
    "data Date = Date Int Int Int"
   ]
  },
  {
   "cell_type": "code",
   "execution_count": 112,
   "metadata": {},
   "outputs": [],
   "source": [
    "showDate :: Date -> String\n",
    "showDate (Date d m y) = show d ++ suffix d ++ months !! (m-1) ++ \", \" ++ show y\n",
    "    where months = [\"January\", \"February\", \"March\", \"April\", \"May\", \"June\", \n",
    "                    \"July\", \"August\", \"September\", \"October\", \"November\", \"December\"]\n",
    "\n",
    "suffix :: Int -> String\n",
    "suffix d\n",
    "  | d == 1 || d == 21 || d == 31 = \"st \"\n",
    "  | d == 2 || d == 22            = \"nd \"\n",
    "  | d == 3 || d == 23            = \"rd \"\n",
    "  | otherwise                    = \"th \"\n"
   ]
  },
  {
   "cell_type": "code",
   "execution_count": 113,
   "metadata": {},
   "outputs": [
    {
     "data": {
      "text/plain": [
       "\"24th September, 2020\""
      ]
     },
     "metadata": {},
     "output_type": "display_data"
    }
   ],
   "source": [
    "showDate (Date 24 09 2020)"
   ]
  },
  {
   "cell_type": "markdown",
   "metadata": {},
   "source": [
    "## Exercise H"
   ]
  },
  {
   "cell_type": "code",
   "execution_count": 114,
   "metadata": {},
   "outputs": [],
   "source": [
    "type CIN = String\n",
    "\n",
    "addSum :: CIN -> CIN\n",
    "addSum cin = cin ++ show (sum $ map Char.digitToInt cin)"
   ]
  },
  {
   "cell_type": "code",
   "execution_count": 115,
   "metadata": {},
   "outputs": [
    {
     "data": {
      "text/plain": [
       "\"1234567836\""
      ]
     },
     "metadata": {},
     "output_type": "display_data"
    }
   ],
   "source": [
    "addSum \"12345678\""
   ]
  },
  {
   "cell_type": "code",
   "execution_count": 116,
   "metadata": {},
   "outputs": [],
   "source": [
    "valid :: CIN -> Bool\n",
    "valid cin = cin == addSum (take 8 cin)"
   ]
  },
  {
   "cell_type": "code",
   "execution_count": 117,
   "metadata": {},
   "outputs": [
    {
     "data": {
      "text/plain": [
       "True"
      ]
     },
     "metadata": {},
     "output_type": "display_data"
    }
   ],
   "source": [
    "valid \"1234567836\""
   ]
  },
  {
   "cell_type": "code",
   "execution_count": null,
   "metadata": {},
   "outputs": [],
   "source": []
  }
 ],
 "metadata": {
  "kernelspec": {
   "display_name": "Haskell",
   "language": "haskell",
   "name": "haskell"
  },
  "language_info": {
   "codemirror_mode": "ihaskell",
   "file_extension": ".hs",
   "mimetype": "text/x-haskell",
   "name": "haskell",
   "pygments_lexer": "Haskell",
   "version": "8.6.5"
  }
 },
 "nbformat": 4,
 "nbformat_minor": 4
}
