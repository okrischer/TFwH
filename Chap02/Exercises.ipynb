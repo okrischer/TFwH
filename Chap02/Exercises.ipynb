{
 "cells": [
  {
   "cell_type": "markdown",
   "metadata": {},
   "source": [
    "# Exercises Chapter 2"
   ]
  },
  {
   "cell_type": "code",
   "execution_count": 76,
   "metadata": {},
   "outputs": [],
   "source": [
    ":load Pipe"
   ]
  },
  {
   "cell_type": "code",
   "execution_count": 77,
   "metadata": {},
   "outputs": [],
   "source": [
    "import Pipe\n",
    "import qualified Data.Char as Char\n",
    "import qualified Data.List as List"
   ]
  },
  {
   "cell_type": "markdown",
   "metadata": {},
   "source": [
    "## Exercise C\n",
    "Write a function `modernise :: String -> String`, which ensures that a given title is capitalised like this:\n",
    "> \"The morphology of prex - an essay in meta-algorithmics\"\n",
    "\n",
    "> \"The Morphology Of Prex - An Assay In Meta-algorithmics\""
   ]
  },
  {
   "cell_type": "code",
   "execution_count": 78,
   "metadata": {},
   "outputs": [
    {
     "data": {
      "text/plain": [
       "\"The Morphology Of Prex - An Essay In Meta-algorithmics\""
      ]
     },
     "metadata": {},
     "output_type": "display_data"
    }
   ],
   "source": [
    "modernise :: String -> String\n",
    "modernise old = words old $> map capitalise $> unwords\n",
    "\n",
    "capitalise :: String -> String\n",
    "capitalise (char:chars) = Char.toUpper char : chars\n",
    "\n",
    "modernise \"The morphology of prex - an essay in meta-algorithmics\""
   ]
  },
  {
   "cell_type": "markdown",
   "metadata": {},
   "source": [
    "## Exercise D\n",
    "`susan` uses existing component functions like `map`,  `filter` and `find` (higher order functions) for evaluation, `beaver` uses explict recursion.\n",
    "\n",
    "Both functions can be implemented using eager or lazy evaluation:"
   ]
  },
  {
   "cell_type": "code",
   "execution_count": 83,
   "metadata": {},
   "outputs": [
    {
     "data": {
      "text/plain": [
       "'t'"
      ]
     },
     "metadata": {},
     "output_type": "display_data"
    },
    {
     "data": {
      "text/plain": [
       "Just 't'"
      ]
     },
     "metadata": {},
     "output_type": "display_data"
    },
    {
     "data": {
      "text/plain": [
       "Nothing"
      ]
     },
     "metadata": {},
     "output_type": "display_data"
    }
   ],
   "source": [
    "--eager implementation of susan\n",
    "susan :: (a -> Bool) -> [a] -> a\n",
    "susan p =  head . filter p\n",
    "\n",
    "susan (== 't') \"test\"\n",
    "--susan (== 't') \"Tesla\" --throws error: empty list\n",
    "\n",
    "--lazy implementation of susan\n",
    "susan' :: (a -> Bool) -> [a] -> Maybe a\n",
    "susan' = List.find\n",
    "\n",
    "susan' (== 't') \"test\"\n",
    "susan' (== 't') \"Tesla\""
   ]
  },
  {
   "cell_type": "code",
   "execution_count": 84,
   "metadata": {},
   "outputs": [
    {
     "data": {
      "text/plain": [
       "Just 't'"
      ]
     },
     "metadata": {},
     "output_type": "display_data"
    },
    {
     "data": {
      "text/plain": [
       "Nothing"
      ]
     },
     "metadata": {},
     "output_type": "display_data"
    }
   ],
   "source": [
    "--lazy implementation if beaver \n",
    "beaver :: (a -> Bool) -> [a] -> Maybe a\n",
    "beaver p xs | null xs = Nothing\n",
    "             | p x = Just x\n",
    "             | otherwise = beaver p (tail xs)\n",
    "             where x = head xs\n",
    "\n",
    "beaver (== 't') \"test\"\n",
    "beaver (== 't') \"Tesla\""
   ]
  },
  {
   "cell_type": "markdown",
   "metadata": {},
   "source": [
    "## Exercise F\n",
    "The follwing implementation of `exp` has a complexity of $\\mathcal{O}(n)$:"
   ]
  },
  {
   "cell_type": "code",
   "execution_count": 85,
   "metadata": {},
   "outputs": [
    {
     "data": {
      "text/plain": [
       "1024"
      ]
     },
     "metadata": {},
     "output_type": "display_data"
    }
   ],
   "source": [
    "exp :: Int -> Int -> Int\n",
    "exp x n | n == 0 = 1\n",
    "        | n == 1 = x\n",
    "        | otherwise = x * exp x (n-1)\n",
    "        \n",
    "exp 2 10"
   ]
  },
  {
   "cell_type": "markdown",
   "metadata": {},
   "source": [
    "The next, improved implementation uses the following two insights:\n",
    "$$x^{2m} = (x^2)^m \\iff x^n = (x^2)^{\\frac{1}{2}n}$$\n",
    "$$x^{2m+1} = x(x^2)^m$$\n",
    "The complexity is $\\mathcal{O}(\\lg{n})$, roughly speaking because we are halving the input every time we make a recursive call.\n",
    "A mathematical proof for this would be:\n",
    "the program takes $p$ multiplications, where $2^p \\leq n < 2^{p+1}$, thus $p = \\lfloor{\\lg{n}}\\rfloor$. "
   ]
  },
  {
   "cell_type": "code",
   "execution_count": 86,
   "metadata": {},
   "outputs": [
    {
     "data": {
      "text/plain": [
       "1024"
      ]
     },
     "metadata": {},
     "output_type": "display_data"
    }
   ],
   "source": [
    "exp :: Int -> Int -> Int\n",
    "exp x n | n == 0 = 1\n",
    "        | n == 1 = x\n",
    "        | even n = exp (x*x) m\n",
    "        | odd n  = x * exp (x*x) m\n",
    "        where m = n `div` 2\n",
    "        \n",
    "exp 2 10"
   ]
  },
  {
   "cell_type": "markdown",
   "metadata": {},
   "source": [
    "## Exercise G"
   ]
  },
  {
   "cell_type": "code",
   "execution_count": null,
   "metadata": {},
   "outputs": [],
   "source": []
  }
 ],
 "metadata": {
  "kernelspec": {
   "display_name": "Haskell",
   "language": "haskell",
   "name": "haskell"
  },
  "language_info": {
   "codemirror_mode": "ihaskell",
   "file_extension": ".hs",
   "mimetype": "text/x-haskell",
   "name": "haskell",
   "pygments_lexer": "Haskell",
   "version": "8.6.5"
  }
 },
 "nbformat": 4,
 "nbformat_minor": 4
}
